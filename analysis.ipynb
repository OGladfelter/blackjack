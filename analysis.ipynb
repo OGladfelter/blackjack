{
 "cells": [
  {
   "cell_type": "markdown",
   "metadata": {},
   "source": [
    "# Blackjack Analysis\n",
    "\n",
    "### Data from: https://www.kaggle.com/mojocolors/900000-hands-of-blackjack-results"
   ]
  },
  {
   "cell_type": "code",
   "execution_count": 2,
   "metadata": {
    "scrolled": true
   },
   "outputs": [],
   "source": [
    "import pandas as pd\n",
    "import matplotlib.pyplot as plt\n",
    "import numpy as np\n",
    "from matplotlib.ticker import PercentFormatter\n",
    "\n",
    "df = pd.read_csv(\"blackjack.csv\")\n",
    "\n",
    "df['game'] = 0\n",
    "gameNumber = 0\n",
    "\n",
    "for num in range(0,len(df)):\n",
    "    if df['PlayerNo'][num] == 'Player1':\n",
    "        gameNumber = gameNumber + 1\n",
    "    df['game'][num] = gameNumber\n",
    "\n",
    "# 25% of rows have an unfortunate error\n",
    "# it looks like in cases where players only took 3 cards, many rows have an incorrect '0' in the 'card3' column and \n",
    "# instead put their 3rd card value in the 'card4' column\n",
    "print(len(df[(df['card1']+df['card2']+df['card3']!=df['sumofcards'])&(df['card3']==0)]) / len(df))\n",
    "\n",
    "# let's fix that\n",
    "for num in range(0,len(df)):\n",
    "    if (df['card3'][num] == 0) & (df['card4'][num] > 0):\n",
    "        df['card3'][num] = df['card4'][num]\n",
    "        df['card4'][num] = 0\n",
    "\n",
    "df.to_csv(\"blackjack.csv\", index=False)"
   ]
  },
  {
   "cell_type": "code",
   "execution_count": 113,
   "metadata": {
    "scrolled": true
   },
   "outputs": [],
   "source": [
    "def took3rdCard(value):\n",
    "    if value > 0:\n",
    "        return 1\n",
    "    else:\n",
    "        return 0\n",
    "\n",
    "df['took3rdCard'] = df['card3'].apply(took3rdCard)\n",
    "df['dealtook3rdCard'] = df['dealcard3'].apply(took3rdCard)"
   ]
  },
  {
   "cell_type": "code",
   "execution_count": 22,
   "metadata": {
    "scrolled": true
   },
   "outputs": [
    {
     "data": {
      "text/plain": [
       "Win     69.425068\n",
       "Push    18.492507\n",
       "Loss    12.082425\n",
       "Name: winloss, dtype: float64"
      ]
     },
     "execution_count": 22,
     "metadata": {},
     "output_type": "execute_result"
    }
   ],
   "source": [
    "df[df['sumofcards']==20]['winloss'].value_counts() / len(df[df['sumofcards']==20]) * 100"
   ]
  },
  {
   "cell_type": "code",
   "execution_count": 10,
   "metadata": {
    "scrolled": true
   },
   "outputs": [
    {
     "data": {
      "text/plain": [
       "sumofcards\n",
       "8      0.000111\n",
       "9      0.001333\n",
       "10     0.003556\n",
       "11     0.009000\n",
       "12     2.633222\n",
       "13     4.306556\n",
       "14     4.216000\n",
       "15     4.132667\n",
       "16     4.041000\n",
       "17    11.987222\n",
       "18    12.366333\n",
       "19    11.702667\n",
       "20    16.311111\n",
       "21    10.419222\n",
       "22     5.029556\n",
       "23     3.989778\n",
       "24     3.475111\n",
       "25     2.984667\n",
       "26     2.390889\n",
       "dtype: float64"
      ]
     },
     "execution_count": 10,
     "metadata": {},
     "output_type": "execute_result"
    }
   ],
   "source": [
    "df.groupby('sumofcards').size() / len(df) * 100"
   ]
  },
  {
   "cell_type": "code",
   "execution_count": 49,
   "metadata": {
    "scrolled": true
   },
   "outputs": [
    {
     "data": {
      "image/png": "[encoded data removed]",
      "text/plain": [
       "<Figure size 432x288 with 1 Axes>"
      ]
     },
     "metadata": {
      "needs_background": "light"
     },
     "output_type": "display_data"
    }
   ],
   "source": [
    "dealer = df.drop_duplicates('game')\n",
    "\n",
    "data = [1000, 1000, 5000, 3000, 4000, 16000, 2000]\n",
    "\n",
    "plt.hist(dealer['sumofdeal'], weights=np.ones(len(dealer['sumofcards'])) / len(dealer['sumofcards']))\n",
    "\n",
    "plt.gca().yaxis.set_major_formatter(PercentFormatter(1))\n",
    "\n",
    "plt.xlabel(\"Final Hand Value - Dealer\")\n",
    "plt.show()"
   ]
  },
  {
   "cell_type": "markdown",
   "metadata": {},
   "source": [
    "# For every possible hand value, what % of players take another card?"
   ]
  },
  {
   "cell_type": "code",
   "execution_count": 175,
   "metadata": {
    "scrolled": true
   },
   "outputs": [],
   "source": [
    "currentHandValue = []\n",
    "hitMe = []\n",
    "\n",
    "for num in range(0,100000):\n",
    "    currentHandValue.append(df['ply2cardsum'][num])\n",
    "    \n",
    "    if df['card3'][num] > 0:\n",
    "        hitMe.append(1)\n",
    "    else:\n",
    "        hitMe.append(0)\n",
    "        continue # this player's game is done, move to next loop\n",
    "        \n",
    "    handValue = df['ply2cardsum'][num] + df['card3'][num]\n",
    "    currentHandValue.append(handValue)\n",
    "    \n",
    "    if df['card4'][num] > 0:\n",
    "        hitMe.append(1)\n",
    "    else:\n",
    "        hitMe.append(0)\n",
    "        continue # this player's game is done, move to next loop\n",
    "        \n",
    "    handValue = handValue + df['card4'][num]\n",
    "    currentHandValue.append(handValue)\n",
    "    \n",
    "    if df['card5'][num] > 0:\n",
    "        hitMe.append(1)\n",
    "    else:\n",
    "        hitMe.append(0)\n",
    "        \n",
    "assert(len(currentHandValue) == len(hitMe))\n",
    "\n",
    "hitMeData = pd.DataFrame({'hand_value':currentHandValue, 'tookCard': hitMe})\n",
    "\n",
    "avg = hitMeData.groupby('hand_value').mean()\n",
    "avg.reset_index().to_csv(\"hand_value_averages.csv\", index=False)"
   ]
  },
  {
   "cell_type": "code",
   "execution_count": 179,
   "metadata": {
    "scrolled": true
   },
   "outputs": [
    {
     "data": {
      "text/plain": [
       "Text(0.5, 0, 'Hand Value - Players')"
      ]
     },
     "execution_count": 179,
     "metadata": {},
     "output_type": "execute_result"
    },
    {
     "data": {
      "image/png": "[encoded data removed]",
      "text/plain": [
       "<Figure size 432x288 with 1 Axes>"
      ]
     },
     "metadata": {
      "needs_background": "light"
     },
     "output_type": "display_data"
    }
   ],
   "source": [
    "plt.scatter(avg.index, avg['tookCard'])\n",
    "plt.ylabel(\"Proportion Of Players Who Accepted Another Card\")\n",
    "plt.xlabel(\"Hand Value - Players\")"
   ]
  },
  {
   "cell_type": "markdown",
   "metadata": {},
   "source": [
    "# For any initial hand value, what % of players took a third card?"
   ]
  },
  {
   "cell_type": "code",
   "execution_count": null,
   "metadata": {
    "scrolled": true
   },
   "outputs": [],
   "source": [
    "round1 = first2cards[['card1','card2','win']]\n",
    "\n",
    "round1['handValue'] = round1['card1'] + round1['card2']\n",
    "del round1['card1']\n",
    "del round1['card2']\n",
    "\n",
    "round1 = round1.groupby('handValue').mean().reset_index()\n",
    "\n",
    "first3cards = data.groupby(['card1','card2','card3']).mean().reset_index()\n",
    "\n",
    "round2 = first3cards[['card1','card2','card3','win']]\n",
    "\n",
    "round2['handValue'] = round2['card1'] + round2['card2'] + round2['card3']\n",
    "del round2['card1']\n",
    "del round2['card2']\n",
    "del round2['card3']\n",
    "\n",
    "round2 = round2.groupby('handValue').mean().reset_index()\n",
    "\n",
    "first4cards = data.groupby(['card1','card2','card3','card4']).mean().reset_index()\n",
    "\n",
    "round3 = first4cards[['card1','card2','card3','card4','win']]\n",
    "\n",
    "round3['handValue'] = round3['card1'] + round3['card2'] + round3['card3'] + round3['card4']\n",
    "del round3['card1']\n",
    "del round3['card2']\n",
    "del round3['card3']\n",
    "del round3['card4']\n",
    "\n",
    "round3 = round3.groupby('handValue').mean().reset_index()\n",
    "\n",
    "# convert win column to boolean\n",
    "df['win'] = df['winloss'].map({'Loss': 0, 'Win': 1})\n",
    "\n",
    "# remove ties\n",
    "noTies = df[df['winloss']!='Push']\n",
    "\n",
    "# subset to rows of interest\n",
    "data = noTies[['card1','card2','card3','card4','card5','win']]\n",
    "\n",
    "def tookCard(value):\n",
    "    if value > 0:\n",
    "        return 1\n",
    "    else:\n",
    "        return value\n",
    "    \n",
    "data['took3rdCard'] = data['card3'].apply(tookCard)\n",
    "data['took4thCard'] = data['card4'].apply(tookCard)\n",
    "data['took5thCard'] = data['card5'].apply(tookCard)\n",
    "\n",
    "first2cards = data.groupby(['card1','card2']).mean().reset_index()\n",
    "\n",
    "def choiceBreaks(card1Value, card2Value):\n",
    "    subset = first2cards[(first2cards['card1']==card1Value) & (first2cards['card2']==card2Value)]\n",
    "    \n",
    "    print(str(subset['took3rdCard'].mean()) + \"% took a 3rd card\")\n",
    "    \n",
    "choiceBreaks(10,5)"
   ]
  },
  {
   "cell_type": "markdown",
   "metadata": {},
   "source": [
    "# Compute Win % At Every Stage"
   ]
  },
  {
   "cell_type": "code",
   "execution_count": 226,
   "metadata": {
    "scrolled": true
   },
   "outputs": [],
   "source": [
    "first5cards = data.groupby(['card1','card2','card3','card4','card5']).mean().reset_index()\n",
    "\n",
    "round4 = first5cards[['card1','card2','card3','card4','card5','win']]\n",
    "\n",
    "round4['handValue'] = round4['card1'] + round4['card2'] + round4['card3'] + round4['card4'] + round4['card5']\n",
    "del round4['card1']\n",
    "del round4['card2']\n",
    "del round4['card3']\n",
    "del round4['card4']\n",
    "del round4['card5']\n",
    "\n",
    "round4 = round4.groupby('handValue').mean().reset_index()\n",
    "\n",
    "round1.columns = ['handValue', 'round1']\n",
    "round2.columns = ['handValue', 'round2']\n",
    "round3.columns = ['handValue', 'round3']\n",
    "round4.columns = ['handValue', 'round4']\n",
    "\n",
    "winProbs = round1.merge(round2,how=\"left\").merge(round3,how=\"left\").merge(round4,how=\"left\")\n",
    "\n",
    "winProbs.to_csv(\"winProbs.csv\", index=False)"
   ]
  },
  {
   "cell_type": "code",
   "execution_count": 229,
   "metadata": {
    "scrolled": true
   },
   "outputs": [
    {
     "data": {
      "text/html": [
       "<div>\n",
       "<style scoped>\n",
       "    .dataframe tbody tr th:only-of-type {\n",
       "        vertical-align: middle;\n",
       "    }\n",
       "\n",
       "    .dataframe tbody tr th {\n",
       "        vertical-align: top;\n",
       "    }\n",
       "\n",
       "    .dataframe thead th {\n",
       "        text-align: right;\n",
       "    }\n",
       "</style>\n",
       "<table border=\"1\" class=\"dataframe\">\n",
       "  <thead>\n",
       "    <tr style=\"text-align: right;\">\n",
       "      <th></th>\n",
       "      <th>handValue</th>\n",
       "      <th>round1</th>\n",
       "      <th>round2</th>\n",
       "      <th>round3</th>\n",
       "      <th>round4</th>\n",
       "    </tr>\n",
       "  </thead>\n",
       "  <tbody>\n",
       "    <tr>\n",
       "      <td>0</td>\n",
       "      <td>2</td>\n",
       "      <td>0.416667</td>\n",
       "      <td>NaN</td>\n",
       "      <td>NaN</td>\n",
       "      <td>NaN</td>\n",
       "    </tr>\n",
       "    <tr>\n",
       "      <td>1</td>\n",
       "      <td>3</td>\n",
       "      <td>0.313545</td>\n",
       "      <td>NaN</td>\n",
       "      <td>NaN</td>\n",
       "      <td>NaN</td>\n",
       "    </tr>\n",
       "    <tr>\n",
       "      <td>2</td>\n",
       "      <td>4</td>\n",
       "      <td>0.333427</td>\n",
       "      <td>NaN</td>\n",
       "      <td>NaN</td>\n",
       "      <td>NaN</td>\n",
       "    </tr>\n",
       "    <tr>\n",
       "      <td>3</td>\n",
       "      <td>5</td>\n",
       "      <td>0.355557</td>\n",
       "      <td>NaN</td>\n",
       "      <td>NaN</td>\n",
       "      <td>NaN</td>\n",
       "    </tr>\n",
       "    <tr>\n",
       "      <td>4</td>\n",
       "      <td>6</td>\n",
       "      <td>0.335753</td>\n",
       "      <td>0.309598</td>\n",
       "      <td>NaN</td>\n",
       "      <td>NaN</td>\n",
       "    </tr>\n",
       "    <tr>\n",
       "      <td>5</td>\n",
       "      <td>7</td>\n",
       "      <td>0.312735</td>\n",
       "      <td>0.331543</td>\n",
       "      <td>0.310345</td>\n",
       "      <td>NaN</td>\n",
       "    </tr>\n",
       "    <tr>\n",
       "      <td>6</td>\n",
       "      <td>8</td>\n",
       "      <td>0.387797</td>\n",
       "      <td>0.407459</td>\n",
       "      <td>0.308753</td>\n",
       "      <td>0.000000</td>\n",
       "    </tr>\n",
       "    <tr>\n",
       "      <td>7</td>\n",
       "      <td>9</td>\n",
       "      <td>0.542263</td>\n",
       "      <td>0.458155</td>\n",
       "      <td>0.432033</td>\n",
       "      <td>0.433333</td>\n",
       "    </tr>\n",
       "    <tr>\n",
       "      <td>8</td>\n",
       "      <td>10</td>\n",
       "      <td>0.577803</td>\n",
       "      <td>0.527649</td>\n",
       "      <td>0.498696</td>\n",
       "      <td>0.148611</td>\n",
       "    </tr>\n",
       "    <tr>\n",
       "      <td>9</td>\n",
       "      <td>11</td>\n",
       "      <td>0.558612</td>\n",
       "      <td>0.598157</td>\n",
       "      <td>0.609428</td>\n",
       "      <td>0.348485</td>\n",
       "    </tr>\n",
       "    <tr>\n",
       "      <td>10</td>\n",
       "      <td>12</td>\n",
       "      <td>0.365078</td>\n",
       "      <td>0.350018</td>\n",
       "      <td>0.367397</td>\n",
       "      <td>0.342035</td>\n",
       "    </tr>\n",
       "    <tr>\n",
       "      <td>11</td>\n",
       "      <td>13</td>\n",
       "      <td>0.406280</td>\n",
       "      <td>0.324889</td>\n",
       "      <td>0.325650</td>\n",
       "      <td>0.349416</td>\n",
       "    </tr>\n",
       "    <tr>\n",
       "      <td>12</td>\n",
       "      <td>14</td>\n",
       "      <td>0.380119</td>\n",
       "      <td>0.301505</td>\n",
       "      <td>0.300310</td>\n",
       "      <td>0.322235</td>\n",
       "    </tr>\n",
       "    <tr>\n",
       "      <td>13</td>\n",
       "      <td>15</td>\n",
       "      <td>0.387203</td>\n",
       "      <td>0.285669</td>\n",
       "      <td>0.281960</td>\n",
       "      <td>0.293888</td>\n",
       "    </tr>\n",
       "    <tr>\n",
       "      <td>14</td>\n",
       "      <td>16</td>\n",
       "      <td>0.445080</td>\n",
       "      <td>0.267561</td>\n",
       "      <td>0.257047</td>\n",
       "      <td>0.277371</td>\n",
       "    </tr>\n",
       "    <tr>\n",
       "      <td>15</td>\n",
       "      <td>17</td>\n",
       "      <td>0.509320</td>\n",
       "      <td>0.307420</td>\n",
       "      <td>0.273823</td>\n",
       "      <td>0.261447</td>\n",
       "    </tr>\n",
       "    <tr>\n",
       "      <td>16</td>\n",
       "      <td>18</td>\n",
       "      <td>0.531844</td>\n",
       "      <td>0.471247</td>\n",
       "      <td>0.456016</td>\n",
       "      <td>0.437138</td>\n",
       "    </tr>\n",
       "    <tr>\n",
       "      <td>17</td>\n",
       "      <td>19</td>\n",
       "      <td>0.636547</td>\n",
       "      <td>0.631301</td>\n",
       "      <td>0.604965</td>\n",
       "      <td>0.599010</td>\n",
       "    </tr>\n",
       "    <tr>\n",
       "      <td>18</td>\n",
       "      <td>20</td>\n",
       "      <td>0.841141</td>\n",
       "      <td>0.844499</td>\n",
       "      <td>0.843680</td>\n",
       "      <td>0.848031</td>\n",
       "    </tr>\n",
       "    <tr>\n",
       "      <td>19</td>\n",
       "      <td>21</td>\n",
       "      <td>1.000000</td>\n",
       "      <td>1.000000</td>\n",
       "      <td>1.000000</td>\n",
       "      <td>1.000000</td>\n",
       "    </tr>\n",
       "  </tbody>\n",
       "</table>\n",
       "</div>"
      ],
      "text/plain": [
       "    handValue    round1    round2    round3    round4\n",
       "0           2  0.416667       NaN       NaN       NaN\n",
       "1           3  0.313545       NaN       NaN       NaN\n",
       "2           4  0.333427       NaN       NaN       NaN\n",
       "3           5  0.355557       NaN       NaN       NaN\n",
       "4           6  0.335753  0.309598       NaN       NaN\n",
       "5           7  0.312735  0.331543  0.310345       NaN\n",
       "6           8  0.387797  0.407459  0.308753  0.000000\n",
       "7           9  0.542263  0.458155  0.432033  0.433333\n",
       "8          10  0.577803  0.527649  0.498696  0.148611\n",
       "9          11  0.558612  0.598157  0.609428  0.348485\n",
       "10         12  0.365078  0.350018  0.367397  0.342035\n",
       "11         13  0.406280  0.324889  0.325650  0.349416\n",
       "12         14  0.380119  0.301505  0.300310  0.322235\n",
       "13         15  0.387203  0.285669  0.281960  0.293888\n",
       "14         16  0.445080  0.267561  0.257047  0.277371\n",
       "15         17  0.509320  0.307420  0.273823  0.261447\n",
       "16         18  0.531844  0.471247  0.456016  0.437138\n",
       "17         19  0.636547  0.631301  0.604965  0.599010\n",
       "18         20  0.841141  0.844499  0.843680  0.848031\n",
       "19         21  1.000000  1.000000  1.000000  1.000000"
      ]
     },
     "execution_count": 229,
     "metadata": {},
     "output_type": "execute_result"
    }
   ],
   "source": [
    "winProbs"
   ]
  }
 ],
 "metadata": {
  "kernelspec": {
   "display_name": "Python 3",
   "language": "python",
   "name": "python3"
  },
  "language_info": {
   "codemirror_mode": {
    "name": "ipython",
    "version": 3
   },
   "file_extension": ".py",
   "mimetype": "text/x-python",
   "name": "python",
   "nbconvert_exporter": "python",
   "pygments_lexer": "ipython3",
   "version": "3.7.4"
  }
 },
 "nbformat": 4,
 "nbformat_minor": 2
}
